{
 "cells": [
  {
   "cell_type": "markdown",
   "metadata": {},
   "source": [
    "**(C) 2020 David Haunschild** ([d.g.haunschild@se18.qmul.ac.uk](mailto:d.g.haunschild@se18.qmul.ac.uk) - [web](https://quantumvis.pro/)), all rights reserved."
   ]
  },
  {
   "cell_type": "markdown",
   "metadata": {},
   "source": [
    "# DIY Covid-19 Dashboard \n",
    "\n",
    "This dashboard utilises Python with the pandas module to analyze COVID-19 data in the UK."
   ]
  },
  {
   "cell_type": "code",
   "execution_count": 17,
   "metadata": {},
   "outputs": [],
   "source": [
    "import os.path, time\n",
    "from datetime import datetime\n",
    "import ipywidgets as wdg\n",
    "import ipywidgets as widgets\n",
    "import pandas as pd\n",
    "import numpy as np\n",
    "import matplotlib.pyplot as plt\n",
    "import json\n",
    "from IPython.display import Markdown, display, HTML\n",
    "from uk_covid19 import Cov19API"
   ]
  },
  {
   "cell_type": "code",
   "execution_count": 110,
   "metadata": {},
   "outputs": [],
   "source": [
    "%matplotlib inline\n",
    "plt.rcParams['figure.dpi'] = 100"
   ]
  },
  {
   "cell_type": "code",
   "execution_count": 111,
   "metadata": {},
   "outputs": [],
   "source": [
    "def printmd(string):\n",
    "    \"\"\"Prints in markdown format\"\"\"\n",
    "    display(Markdown(string))"
   ]
  },
  {
   "cell_type": "code",
   "execution_count": 112,
   "metadata": {},
   "outputs": [],
   "source": [
    "'''Load initial data from disk'''\n",
    "with open(\"timeseries.json\", \"rt\") as INFILE:\n",
    "    data=json.load(INFILE)\n",
    "    \n",
    "with open(\"gender.json\", \"rt\") as INFILE:\n",
    "    data1=json.load(INFILE)"
   ]
  },
  {
   "cell_type": "code",
   "execution_count": 113,
   "metadata": {},
   "outputs": [],
   "source": [
    "#Meta data check for latest update\n",
    "def last_update(file_name):\n",
    "    return \"Last update: %s\" % time.ctime(os.path.getmtime(f\"{file_name}\"))"
   ]
  },
  {
   "cell_type": "code",
   "execution_count": 114,
   "metadata": {},
   "outputs": [],
   "source": [
    "'''API'''\n",
    "def access_api():\n",
    "    \n",
    "    try:\n",
    "        \n",
    "        filters = [\n",
    "        'areaType=overview'\n",
    "      ]\n",
    "        structure = {\n",
    "        \"date\": \"date\",\n",
    "        \"cases\": \"newCasesByPublishDate\",\n",
    "        \"hospital\": \"newAdmissions\",\n",
    "        \"deaths\": \"cumDeaths28DaysByDeathDateRate\"    \n",
    "      }\n",
    "        api = Cov19API(filters=filters, structure=structure)\n",
    "        timeseries=api.get_json()\n",
    "\n",
    "        with open('timeseries.json', \"wt\") as OUTF:\n",
    "            data = json.dump(timeseries, OUTF)\n",
    "\n",
    "        return timeseries\n",
    "    \n",
    "    except :\n",
    "        print('Error connecting to API!', last_update('timeseries.json'), flush = True)"
   ]
  },
  {
   "cell_type": "code",
   "execution_count": 115,
   "metadata": {},
   "outputs": [],
   "source": [
    "'''API 2_Male_Female_Cases'''\n",
    "def access_api1():\n",
    "    \n",
    "    try:\n",
    "        \n",
    "        filters = [\n",
    "        'areaType=nation'\n",
    "        #'areaName=England'\n",
    "      ]\n",
    "        structure = {\n",
    "            \"males\": \"maleCases\",\n",
    "            \"females\": \"femaleCases\"    \n",
    "      }\n",
    "        api = Cov19API(filters=filters, structure=structure)\n",
    "        gender=api.get_json()\n",
    "\n",
    "        with open('gender.json', \"wt\") as OUTF:\n",
    "            data = json.dump(gender, OUTF)\n",
    "\n",
    "        return gender\n",
    "    \n",
    "    except :\n",
    "        print('Error connecting to API!', last_update('timeseries.json'), flush = True)"
   ]
  },
  {
   "cell_type": "code",
   "execution_count": 116,
   "metadata": {},
   "outputs": [],
   "source": [
    "'''Wrangle_DATA'''\n",
    "def wrangle_data(data):\n",
    "    datalist=data['data']#[0]\n",
    "    dates=[dictionary['date'] for dictionary in datalist ]\n",
    "    dates.sort()\n",
    "    def parse_date(datestring):\n",
    "        \"\"\" Convert a date string into a pandas datetime object \"\"\"\n",
    "        return pd.to_datetime(datestring, format=\"%Y-%m-%d\")\n",
    "    startdate=parse_date(dates[0])\n",
    "    enddate=parse_date(dates[-1])\n",
    "    index=pd.date_range(startdate, enddate, freq='D')\n",
    "    timeseriesdf=pd.DataFrame(index=index, columns=['cases', 'hospital', 'deaths'])\n",
    "    for entry in datalist: # each entry is a dictionary with date, cases, hospital and deaths\n",
    "        date=parse_date(entry['date'])\n",
    "        for column in ['cases', 'hospital', 'deaths']:\n",
    "        \n",
    "            if pd.isna(timeseriesdf.loc[date, column]): \n",
    "           \n",
    "                value= float(entry[column]) if entry[column]!=None else 0.0\n",
    "           \n",
    "                timeseriesdf.loc[date, column]=value\n",
    "            \n",
    "    timeseriesdf.fillna(0.0, inplace=True)\n",
    "    \n",
    "    #pickle file\n",
    "    timeseriesdf.to_pickle(\"timeseriesdf.pkl\")\n",
    "    timeseriesdf=pd.read_pickle(\"timeseriesdf.pkl\")\n",
    "            \n",
    "    return timeseriesdf    "
   ]
  },
  {
   "cell_type": "code",
   "execution_count": 117,
   "metadata": {},
   "outputs": [],
   "source": [
    "'''Wrangle_DATA2_Male_Female_Chart'''\n",
    "def wrangle_data1(data):\n",
    "    datadic=data['data'][0]\n",
    "    males=datadic['males']\n",
    "    females=datadic['females']\n",
    "    ageranges=[x['age'] for x in males]\n",
    "    \n",
    "    def min_age(agerange):\n",
    "        agerange=agerange.replace('+','') # remove the + from 90+\n",
    "        start=agerange.split('_')[0]\n",
    "        return int(start)\n",
    "    \n",
    "    ageranges.sort(key=min_age)\n",
    "    age_df=pd.DataFrame(index=ageranges, columns=['males','females', 'total'])\n",
    "    for entry in males: # each entry is a dictionary\n",
    "        ageband=entry['age'] # our index position\n",
    "        age_df.loc[ageband, 'males']=entry['value']\n",
    "    \n",
    "    for entry in females:\n",
    "        ageband=entry['age']\n",
    "        age_df.loc[ageband, 'females']=entry['value']\n",
    "    \n",
    "    age_df['total']=age_df['males']+age_df['females']\n",
    "    \n",
    "    #and create a pickle file\n",
    "    age_df.to_pickle(\"genderdf.pkl\")\n",
    "    age_df=pd.read_pickle(\"genderdf.pkl\")\n",
    "            \n",
    "    return age_df"
   ]
  },
  {
   "cell_type": "code",
   "execution_count": 118,
   "metadata": {},
   "outputs": [],
   "source": [
    "'''Meta data check function for latest update'''\n",
    "#Meta data check for latest update\n",
    "def last_update(file_name):\n",
    "    return \"Last update: %s\" % time.ctime(os.path.getmtime(f\"{file_name}\"))"
   ]
  },
  {
   "cell_type": "code",
   "execution_count": 132,
   "metadata": {},
   "outputs": [
    {
     "data": {
      "application/vnd.jupyter.widget-view+json": {
       "model_id": "0041557be53b4951bd25b6cbc102a8d5",
       "version_major": 2,
       "version_minor": 0
      },
      "text/plain": [
       "Button(button_style='info', description='Update Data', icon='download', style=ButtonStyle(), tooltip='download…"
      ]
     },
     "metadata": {},
     "output_type": "display_data"
    },
    {
     "data": {
      "application/vnd.jupyter.widget-view+json": {
       "model_id": "191dea296a414147990cc1da187f8a15",
       "version_major": 2,
       "version_minor": 0
      },
      "text/plain": [
       "Output()"
      ]
     },
     "metadata": {},
     "output_type": "display_data"
    }
   ],
   "source": [
    "'''API REFRESH BUTTON FUNCTION AND EXECUTE'''\n",
    "#Cereating the output\n",
    "output1 = wdg.Output()\n",
    "\n",
    "@output1.capture(clear_output=True,wait=True)\n",
    "\n",
    "def api_button_callback(button):\n",
    "    \n",
    "    try:\n",
    "        \n",
    "        #refeshing graph 1 ==> timeseries\n",
    "        apidata = access_api()\n",
    "        global df\n",
    "        \n",
    "        df = wrangle_data(apidata)\n",
    "\n",
    "        refresh_graph()\n",
    "        \n",
    "        \n",
    "        #refeshing graph 2 ==> demographics\n",
    "        apidata1 = access_api1()\n",
    "        \n",
    "        df = wrangle_data1(apidata1)\n",
    "        \n",
    "        refresh_graph1()\n",
    "        \n",
    "        #refeshing graph 3 ==> Pie_Chart demographics\n",
    "        \n",
    "        refresh_graph2()\n",
    "        \n",
    "        \n",
    "        #create a text box in dashboard\n",
    "        button.icon = 'check'\n",
    "        button.disabled = True\n",
    "        button_style='success'\n",
    "                  \n",
    "        printmd('Success! '+ last_update('timeseries.json'))\n",
    "                     \n",
    "    \n",
    "             \n",
    "    except Exception:\n",
    "        #Called when API fails to load!\n",
    "        printmd('Error! ' + last_update('timeseries.json'))\n",
    "        button.icon = 'warning'\n",
    "        button_style='warning'\n",
    "        button.description='Error API data!'\n",
    "        button.disabled = False\n",
    "    \n",
    "    \n",
    "    \n",
    "apibutton=wdg.Button(\n",
    "    description='Update Data', \n",
    "    disabled=False,\n",
    "    button_style='Info', # 'success', 'info', 'warning', 'danger' or ''\n",
    "    tooltip=\"download\",\n",
    "    icon='download'\n",
    ")\n",
    "\n",
    "\n",
    "apibutton.on_click(api_button_callback)\n",
    "\n",
    "display(apibutton)\n",
    "output1"
   ]
  },
  {
   "cell_type": "markdown",
   "metadata": {},
   "source": [
    "## Graphs and Analysis"
   ]
  },
  {
   "cell_type": "markdown",
   "metadata": {},
   "source": [
    "### Total UK Daily COVID-19 Statistics"
   ]
  },
  {
   "cell_type": "markdown",
   "metadata": {},
   "source": [
    "The following graph shows the daily cumulative COVID-19 cases in the UK since the pandemic. As of November 2020, over 50,000 deaths were recorded, and more than one million cases of which over 200,000 were admitted to the hospital."
   ]
  },
  {
   "cell_type": "code",
   "execution_count": 68,
   "metadata": {},
   "outputs": [],
   "source": [
    "'''Graph Controls'''\n",
    "interact = wdg.SelectMultiple(\n",
    "    options = [\"cases\",\"hospital\", \"deaths\"],\n",
    "    value = [\"cases\",\"hospital\", \"deaths\"],\n",
    "    rows = 3,\n",
    "    description = 'Chose Data:',\n",
    "    disabled = False\n",
    ")\n",
    "\n",
    "log = wdg.RadioButtons(\n",
    "    options = ['linear', 'logarithmic'],\n",
    "    description = 'Type:',\n",
    "    disabled = False\n",
    ")\n",
    "\n",
    "controls = wdg.HBox([interact, log])"
   ]
  },
  {
   "cell_type": "code",
   "execution_count": 11,
   "metadata": {},
   "outputs": [],
   "source": [
    "'''Calling the File from above as 'df1'''\n",
    "df1 = wrangle_data(data)"
   ]
  },
  {
   "cell_type": "code",
   "execution_count": 49,
   "metadata": {},
   "outputs": [],
   "source": [
    "\"\"\"Plot timeseries (df1) + title\"\"\"\n",
    "def timeseries(lines, scale):\n",
    "    if scale=='linear':\n",
    "        logscale=False\n",
    "    else:\n",
    "        logscale=True\n",
    "    ncols=len(lines)\n",
    "    if ncols>0:\n",
    "        df1[list(lines)].plot(logy=logscale) #df1 from timeseries\n",
    "        plt.xlabel('Month') \n",
    "        plt.ylabel('Number of Cases')\n",
    "        plt.title(\"UK Daily Total COVID-19 Statistics\")\n",
    "        \n",
    "    else:\n",
    "        print(\"Select desired data.\")\n",
    "        print(\"(CTRL-Click to select more than one category)\")"
   ]
  },
  {
   "cell_type": "code",
   "execution_count": 50,
   "metadata": {},
   "outputs": [
    {
     "data": {
      "application/vnd.jupyter.widget-view+json": {
       "model_id": "c0197b7aa05045209eb306747332e2ae",
       "version_major": 2,
       "version_minor": 0
      },
      "text/plain": [
       "HBox(children=(SelectMultiple(description='Data Select:', index=(1,), options=('cases', 'hospital', 'deaths'),…"
      ]
     },
     "metadata": {},
     "output_type": "display_data"
    },
    {
     "data": {
      "application/vnd.jupyter.widget-view+json": {
       "model_id": "5aaa95c31ab84c5c99244fbbe8b34a09",
       "version_major": 2,
       "version_minor": 0
      },
      "text/plain": [
       "Output()"
      ]
     },
     "metadata": {},
     "output_type": "display_data"
    }
   ],
   "source": [
    "'''Throwing out the Graph 'timeseries' '''\n",
    "plot_1 = wdg.interactive_output(timeseries, {'lines':interact, 'scale': log})\n",
    "\n",
    "display(controls, plot_1)"
   ]
  },
  {
   "cell_type": "markdown",
   "metadata": {},
   "source": [
    "Data: [Source](https://coronavirus.data.gov.uk/)"
   ]
  },
  {
   "cell_type": "code",
   "execution_count": 14,
   "metadata": {},
   "outputs": [],
   "source": [
    "'''Refresh Graph Function 1'''\n",
    "def refresh_graph():\n",
    "    current = interact.value\n",
    "    if current==interact.options[:]:\n",
    "        other=[]\n",
    "        interact.value=other\n",
    "        interact.value=current\n",
    "    else:\n",
    "        other=interact.options[:]\n",
    "        interact.value=other"
   ]
  },
  {
   "cell_type": "code",
   "execution_count": 48,
   "metadata": {},
   "outputs": [],
   "source": [
    "#Second Graph"
   ]
  },
  {
   "cell_type": "markdown",
   "metadata": {},
   "source": [
    "The folowing graph shows the COVID-19 cases based on dempgraphics in the UK since the pandemic."
   ]
  },
  {
   "cell_type": "code",
   "execution_count": 136,
   "metadata": {},
   "outputs": [],
   "source": [
    "'''Graph_2 Controls'''\n",
    "interact1 = wdg.SelectMultiple(\n",
    "    options=['males', 'females', 'total'], \n",
    "    value=['males', 'females'], \n",
    "    rows=3,\n",
    "    description = 'Chose Data:',\n",
    "    disabled = False\n",
    ")\n",
    "\n",
    "controls1 = wdg.HBox([interact1])"
   ]
  },
  {
   "cell_type": "code",
   "execution_count": 137,
   "metadata": {},
   "outputs": [],
   "source": [
    "'''Calling the File from above as 'df2'''\n",
    "df2 = wrangle_data1(data1)"
   ]
  },
  {
   "cell_type": "code",
   "execution_count": 138,
   "metadata": {},
   "outputs": [],
   "source": [
    "\"\"\"Plot Male_Female_Chart (df2) + title\"\"\"\n",
    "def demographics(lines):\n",
    "    if lines=='linear':\n",
    "        logscale=False\n",
    "    else:\n",
    "        logscale=True\n",
    "    ncols=len(lines)\n",
    "    if ncols>0:\n",
    "        df2[list(lines)].plot(kind='barh', y=list(lines))    #plot(kind='bar', y=['males','females','total']) #df2 from Male_Female_Chart, as bar chart plotting\n",
    "        plt.xlabel('Number of Cases') \n",
    "        plt.ylabel('Age')\n",
    "        plt.title(\"UK COVID-19 Demographics\")\n",
    "    \n",
    "    else:\n",
    "        print(\"Select desired data.\")\n",
    "        print(\"(CTRL-Click to select more than one category)\")"
   ]
  },
  {
   "cell_type": "markdown",
   "metadata": {},
   "source": [
    "### UK  COVID-19 Demographics\n",
    "\n",
    "The graph below shows the cases distributed among the age groups and males, females, and cumulatively. "
   ]
  },
  {
   "cell_type": "code",
   "execution_count": 139,
   "metadata": {},
   "outputs": [
    {
     "data": {
      "application/vnd.jupyter.widget-view+json": {
       "model_id": "45e60477adcb4d39b0379c6874f9cbbf",
       "version_major": 2,
       "version_minor": 0
      },
      "text/plain": [
       "HBox(children=(SelectMultiple(description='Chose Data:', index=(0, 1), options=('males', 'females', 'total'), …"
      ]
     },
     "metadata": {},
     "output_type": "display_data"
    },
    {
     "data": {
      "application/vnd.jupyter.widget-view+json": {
       "model_id": "08e7e3ca766e42168d5718d64b51691c",
       "version_major": 2,
       "version_minor": 0
      },
      "text/plain": [
       "Output()"
      ]
     },
     "metadata": {},
     "output_type": "display_data"
    }
   ],
   "source": [
    "'''Throwing out the Graph 'Male_Female_Chart' '''\n",
    "plot_2 = wdg.interactive_output(demographics, {'lines':interact1})\n",
    "\n",
    "display(controls1, plot_2)"
   ]
  },
  {
   "cell_type": "markdown",
   "metadata": {},
   "source": [
    "Data: [Source](https://coronavirus.data.gov.uk/)"
   ]
  },
  {
   "cell_type": "code",
   "execution_count": 66,
   "metadata": {},
   "outputs": [],
   "source": [
    "'''Refresh Graph Function 2'''\n",
    "def refresh_graph1():\n",
    "    current = interact1.value\n",
    "    if current==interact1.options[:]:\n",
    "        other=[]\n",
    "        interact1.value=other\n",
    "        interact1.value=current\n",
    "    else:\n",
    "        other=interact1.options[:]\n",
    "        interact1.value=other"
   ]
  },
  {
   "cell_type": "markdown",
   "metadata": {},
   "source": [
    "The following chart shows a comparison between the total UK COVID-19 cases by Males and Females."
   ]
  },
  {
   "cell_type": "code",
   "execution_count": 127,
   "metadata": {},
   "outputs": [],
   "source": [
    "'''Graph_3 Controls'''\n",
    "interact2 = wdg.SelectMultiple(\n",
    "    options=['males', 'females'], \n",
    "    value=['males', 'females'], \n",
    "    rows=3,\n",
    "    description = 'Chose Data:',\n",
    "    disabled = True\n",
    ")"
   ]
  },
  {
   "cell_type": "code",
   "execution_count": 128,
   "metadata": {},
   "outputs": [],
   "source": [
    "\"\"\"Plot Male_Female_Pie_Chart (df2) + title\"\"\"\n",
    "def pie(lines):\n",
    "    if lines=='linear':\n",
    "        logscale=False\n",
    "    else:\n",
    "        logscale=True\n",
    "    ncols=len(lines)\n",
    "    if ncols>0:\n",
    "        demographics_sum = df2.sum()\n",
    "        demographics_sum = demographics_sum.drop(index = ['total'])\n",
    "        demographics_sum.plot.pie(y='females', figsize=(7, 7), legend=False, \\\n",
    "                   autopct='%1.1f%%', \\\n",
    "                   shadow=True, startangle=0)\n",
    "        plt.xlabel('Total Cases in Percentage') \n",
    "        plt.ylabel('')\n",
    "        plt.title(\"Total UK COVID-19 Cases by Demographics Based on Gender\")\n",
    "    \n",
    "    else:\n",
    "        print(\"Select desired data.\")\n",
    "        print(\"(CTRL-Click to select more than one category)\")"
   ]
  },
  {
   "cell_type": "markdown",
   "metadata": {},
   "source": [
    "Below the cumulative age groups, cases are compared by gender. As of late November 2020, more female COVID-19 cases than male cases in the UK are recorded."
   ]
  },
  {
   "cell_type": "code",
   "execution_count": 129,
   "metadata": {},
   "outputs": [
    {
     "data": {
      "application/vnd.jupyter.widget-view+json": {
       "model_id": "8bb32867bc0a46e7b0ba126ddc16f261",
       "version_major": 2,
       "version_minor": 0
      },
      "text/plain": [
       "Output()"
      ]
     },
     "metadata": {},
     "output_type": "display_data"
    }
   ],
   "source": [
    "'''Throwing out the Pie Chart 'Male_Female_Chart' '''\n",
    "plot_3 = wdg.interactive_output(pie, {'lines':interact2})\n",
    "\n",
    "\n",
    "display(plot_3)"
   ]
  },
  {
   "cell_type": "markdown",
   "metadata": {},
   "source": [
    "Data: [Source](https://coronavirus.data.gov.uk/)"
   ]
  },
  {
   "cell_type": "code",
   "execution_count": 131,
   "metadata": {},
   "outputs": [],
   "source": [
    "'''Refresh Pie Function 3'''\n",
    "def refresh_graph2():\n",
    "    current = interact2.value\n",
    "    if current==interact2.options[:]:\n",
    "        other=[]\n",
    "        interact2.value=other\n",
    "        interact2.value=current\n",
    "    else:\n",
    "        other=interact2.options[:]\n",
    "        interact2.value=other"
   ]
  },
  {
   "cell_type": "markdown",
   "metadata": {},
   "source": [
    "**(C) 2020 David Haunschild** ([d.g.haunschild@se18.qmul.ac.uk](mailto:d.g.haunschild@se18.qmul.ac.uk) - [web](https://quantumvis.pro/)), all rights reserved.\n",
    "\n",
    "\n",
    "Created with help from materials by Fabrizio Smeraldi ([f.smeraldi@qmul.ac.uk](mailto:f.smeraldi@qmul.ac.uk) - [web](http://www.eecs.qmul.ac.uk/~fabri/))\n",
    "\n",
    "Data source: *UK Government [data](https://coronavirus.data.gov.uk/) published by [Public Health England](https://www.gov.uk/government/organisations/public-health-england).*"
   ]
  }
 ],
 "metadata": {
  "kernelspec": {
   "display_name": "Python 3",
   "language": "python",
   "name": "python3"
  },
  "language_info": {
   "codemirror_mode": {
    "name": "ipython",
    "version": 3
   },
   "file_extension": ".py",
   "mimetype": "text/x-python",
   "name": "python",
   "nbconvert_exporter": "python",
   "pygments_lexer": "ipython3",
   "version": "3.8.3"
  }
 },
 "nbformat": 4,
 "nbformat_minor": 4
}
